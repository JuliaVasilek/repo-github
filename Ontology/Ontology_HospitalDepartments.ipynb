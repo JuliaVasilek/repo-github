{
 "cells": [
  {
   "cell_type": "code",
   "execution_count": 1,
   "id": "accompanied-treatment",
   "metadata": {},
   "outputs": [
    {
     "name": "stderr",
     "output_type": "stream",
     "text": [
      "* Owlready2 * Warning: optimized Cython parser module 'owlready2_optimized' is not available, defaulting to slower Python implementation\n"
     ]
    }
   ],
   "source": [
    "from owlready2 import *"
   ]
  },
  {
   "cell_type": "code",
   "execution_count": 2,
   "id": "hired-warehouse",
   "metadata": {},
   "outputs": [],
   "source": [
    "onto = get_ontology(\"Ontology_HospitalDepartments1.owl\").load()"
   ]
  },
  {
   "cell_type": "code",
   "execution_count": 3,
   "id": "fabulous-village",
   "metadata": {},
   "outputs": [
    {
     "name": "stdout",
     "output_type": "stream",
     "text": [
      "Больница\n",
      "Врач\n",
      "Гастроэнтерологическое_отделение\n",
      "Отделение_клиническое\n",
      "Гинекологическое_отделение\n",
      "Дневной_стационар\n",
      "Отделение_амбулаторное\n",
      "Стационар\n",
      "Заведующий_отделением\n",
      "Кардиохирургическое_отделение\n",
      "Неврологическое_отделение\n",
      "Нейрохирургическое_отделение\n",
      "Отделение_больницы\n",
      "Отделение_диагностическое\n",
      "Отделение_лучевой_диагностики\n",
      "Отделение_переливания_крови\n",
      "Отделение_рентгенохирургии\n",
      "Отделение_травматологии_и_ортопедии\n",
      "Отделение_физиотерапии_и_реабилитации\n",
      "Отделение_функциональной_диагностики\n",
      "Оториноларингологическое_отделение\n",
      "Патологоанатомическое_отделение\n",
      "Пациент\n",
      "Приемное_отделение\n",
      "Стационар_кратковременного_пребывания\n",
      "Терапевтическое_отделение\n",
      "Урологическое_отделение\n",
      "Хирургическое_отделение\n",
      "Эндоскопическое_отделение\n",
      "Квалифицированный_врач\n",
      "Медбрат/Медсестра\n"
     ]
    }
   ],
   "source": [
    "for c in onto.classes(): print(c.name)"
   ]
  },
  {
   "cell_type": "code",
   "execution_count": null,
   "id": "solid-segment",
   "metadata": {},
   "outputs": [
    {
     "name": "stderr",
     "output_type": "stream",
     "text": [
      " * Running on http://localhost:5000/ (Press CTRL+C to quit)\n"
     ]
    }
   ],
   "source": [
    "# File dynamic_website.py \n",
    "from owlready2 import *\n",
    "onto = get_ontology(\"Ontology_HospitalDepartments1.owl\").load() \n",
    "from flask import Flask, url_for\n",
    "app = Flask(__name__) \n",
    "@app.route('/')\n",
    "def ontology_page():\n",
    "    html  = \"\"\"<html><body>\"\"\"\n",
    "    html += \"\"\"<h2>'%s' ontology</h2>\"\"\" % onto.base_iri\n",
    "    html += \"\"\"<h3>Root classes</h3>\"\"\" \n",
    "    for Class in Thing.subclasses():\n",
    "        html += \"\"\"<p><a href=\"%s\">%s</a></p>\"\"\" %(url_for(\"class_page\", iri = Class.iri), Class.name)\n",
    "    html += \"\"\"</body></html>\"\"\" \n",
    "    return html\n",
    "@app.route('/class/<path:iri>') \n",
    "def class_page(iri):\n",
    "    Class = IRIS[iri]\n",
    "    html = \"\"\"<html><body><h2>'%s' class</h2>\"\"\" % Class.name\n",
    "    html += \"\"\"<h3>superclasses</h3>\"\"\"\n",
    "    for SuperClass in Class.is_a:\n",
    "        if isinstance(SuperClass, ThingClass):            html += \"\"\"<p><a href=\"%s\">%s</a></p>\"\"\" %(url_for(\"class_page\", iri = SuperClass.iri), \n",
    "SuperClass.name)\n",
    "        else:\n",
    "            html += \"\"\"<p>%s</p>\"\"\" % SuperClass\n",
    "    html += \"\"\"<h3>equivalent classes</h3>\"\"\"\n",
    "    for EquivClass in Class.equivalent_to:\n",
    "        html += \"\"\"<p>%s</p>\"\"\" % EquivClass\n",
    "    html += \"\"\"<h3>Subclasses</h3>\"\"\"\n",
    "    for SubClass in Class.subclasses():\n",
    "        html += \"\"\"<p><a href=\"%s\">%s</a></p>\"\"\" %(url_for(\"class_page\", iri = SubClass.iri), SubClass.name) \n",
    "    html += \"\"\"<h3>Individuals</h3>\"\"\"\n",
    "    for individual in Class.instances():\n",
    "        html += \"\"\"<p><a href=\"%s\">%s</a></p>\"\"\" %(url_for(\"individual_page\", iri = individual.iri),individual.name)\n",
    "    html += \"\"\"</body></html>\"\"\" \n",
    "    return html\n",
    "@app.route('/individual/<path:iri>') \n",
    "def individual_page(iri):\n",
    "    individual = IRIS[iri]\n",
    "    html = \"\"\"<html><body><h2>'%s' individual</h2>\"\"\" %individual.name\n",
    "    html += \"\"\"<h3>Classes</h3>\"\"\" \n",
    "    for Class in individual.is_a:\n",
    "        html += \"\"\"<p><a href=\"%s\">%s</a></p>\"\"\" %(url_for(\"class_page\", iri = Class.iri), Class.name)\n",
    "    html += \"\"\"<h3>Relations</h3>\"\"\"\n",
    "    html += \"\"\"</body></html>\"\"\"\n",
    "    return html\n",
    "import werkzeug.serving\n",
    "werkzeug.serving.run_simple(\"localhost\", 5000, app)"
   ]
  },
  {
   "cell_type": "code",
   "execution_count": null,
   "id": "parental-textbook",
   "metadata": {},
   "outputs": [],
   "source": []
  }
 ],
 "metadata": {
  "kernelspec": {
   "display_name": "Python 3",
   "language": "python",
   "name": "python3"
  },
  "language_info": {
   "codemirror_mode": {
    "name": "ipython",
    "version": 3
   },
   "file_extension": ".py",
   "mimetype": "text/x-python",
   "name": "python",
   "nbconvert_exporter": "python",
   "pygments_lexer": "ipython3",
   "version": "3.9.1"
  }
 },
 "nbformat": 4,
 "nbformat_minor": 5
}
