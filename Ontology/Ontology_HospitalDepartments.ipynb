{
 "cells": [
  {
   "cell_type": "code",
   "execution_count": 1,
   "id": "accompanied-treatment",
   "metadata": {},
   "outputs": [
    {
     "name": "stderr",
     "output_type": "stream",
     "text": [
      "* Owlready2 * Warning: optimized Cython parser module 'owlready2_optimized' is not available, defaulting to slower Python implementation\n"
     ]
    }
   ],
   "source": [
    "from owlready2 import *"
   ]
  },
  {
   "cell_type": "code",
   "execution_count": 2,
   "id": "hired-warehouse",
   "metadata": {},
   "outputs": [],
   "source": [
    "onto = get_ontology(\"Ontology_HospitalDepartments10.owl\").load()"
   ]
  },
  {
   "cell_type": "code",
   "execution_count": 3,
   "id": "fabulous-village",
   "metadata": {},
   "outputs": [
    {
     "name": "stdout",
     "output_type": "stream",
     "text": [
      "Медицинский_работник\n",
      "Стаж_работы\n",
      "Больница\n",
      "Большой\n",
      "Врач\n",
      "Средний\n",
      "Гастроэнтерологическое_отделение\n",
      "Отделение_клиническое\n",
      "Гинекологическое_отделение\n",
      "Дневной_стационар\n",
      "Отделение_амбулаторное\n",
      "Стационар\n",
      "Заведующий_отделением\n",
      "Кардиохирургическое_отделение\n",
      "Малый\n",
      "МедбратМедсестра\n",
      "Неврологическое_отделение\n",
      "Нейрохирургическое_отделение\n",
      "Отделение_Больницы\n",
      "Отделение_диагностическое\n",
      "Отделение_лучевой_диагностики\n",
      "Отделение_переливания_крови\n",
      "Отделение_рентгенохирургии\n",
      "Отделение_травматологии_и_ортопедии\n",
      "Отделение_физиотерапии_и_реабилитации\n",
      "Отделение_функциональной_диагностики\n",
      "Оториноларингологическое_отделение\n",
      "Патологоанатомическое_отделение\n",
      "Пациент\n",
      "Приемное_отделение\n",
      "Стационар_кратковременного_пребывания\n",
      "Терапевтическое_отделение\n",
      "Урологическое_отделение\n",
      "Хирургическое_отделение\n",
      "Эндоскопическое_отделение\n"
     ]
    }
   ],
   "source": [
    "for c in onto.classes(): print(c.name)"
   ]
  },
  {
   "cell_type": "code",
   "execution_count": 4,
   "id": "planned-sequence",
   "metadata": {},
   "outputs": [
    {
     "data": {
      "text/plain": [
       "False"
      ]
     },
     "execution_count": 4,
     "metadata": {},
     "output_type": "execute_result"
    }
   ],
   "source": [
    "isinstance(onto.Илья_Германович, onto.Дневной_стационар)"
   ]
  },
  {
   "cell_type": "code",
   "execution_count": null,
   "id": "solid-segment",
   "metadata": {},
   "outputs": [
    {
     "name": "stderr",
     "output_type": "stream",
     "text": [
      " * Running on http://localhost:5000/ (Press CTRL+C to quit)\n",
      "127.0.0.1 - - [18/Nov/2021 18:39:19] \"GET / HTTP/1.1\" 200 -\n",
      "127.0.0.1 - - [18/Nov/2021 18:39:21] \"GET /class/urn:webprotege:ontology:2be3f3b2-8281-4060-ad9b-5afe901351e2%23Медицинский_работник HTTP/1.1\" 200 -\n",
      "127.0.0.1 - - [18/Nov/2021 18:39:23] \"GET /individual/urn:webprotege:ontology:2be3f3b2-8281-4060-ad9b-5afe901351e2%23Азамат_Маратович HTTP/1.1\" 200 -\n",
      "127.0.0.1 - - [18/Nov/2021 18:39:48] \"GET /class/http://webprotege.stanford.edu/Кардиохирургическое_отделение HTTP/1.1\" 200 -\n",
      "127.0.0.1 - - [18/Nov/2021 18:39:49] \"GET /class/http://webprotege.stanford.edu/Отделение_клиническое HTTP/1.1\" 200 -\n",
      "127.0.0.1 - - [18/Nov/2021 18:39:52] \"GET /class/http://webprotege.stanford.edu/Отделение_больницы HTTP/1.1\" 200 -\n",
      "127.0.0.1 - - [18/Nov/2021 18:39:55] \"GET /class/http://www.w3.org/2002/07/owl%23Thing HTTP/1.1\" 200 -\n",
      "127.0.0.1 - - [18/Nov/2021 18:39:56] \"GET /class/urn:webprotege:ontology:2be3f3b2-8281-4060-ad9b-5afe901351e2%23Стаж_работы HTTP/1.1\" 200 -\n",
      "127.0.0.1 - - [18/Nov/2021 18:40:01] \"GET /class/http://www.w3.org/2002/07/owl%23Thing HTTP/1.1\" 200 -\n",
      "127.0.0.1 - - [18/Nov/2021 18:40:03] \"GET /class/urn:webprotege:ontology:2be3f3b2-8281-4060-ad9b-5afe901351e2%23Больница HTTP/1.1\" 200 -\n",
      "[2021-11-18 18:40:04,006] ERROR in app: Exception on /individual/urn:webprotege:ontology:2be3f3b2-8281-4060-ad9b-5afe901351e2#Больница_№_392 [GET]\n",
      "Traceback (most recent call last):\n",
      "  File \"C:\\Users\\Allek\\AppData\\Roaming\\Python\\Python39\\site-packages\\flask\\app.py\", line 2073, in wsgi_app\n",
      "    response = self.full_dispatch_request()\n",
      "  File \"C:\\Users\\Allek\\AppData\\Roaming\\Python\\Python39\\site-packages\\flask\\app.py\", line 1518, in full_dispatch_request\n",
      "    rv = self.handle_user_exception(e)\n",
      "  File \"C:\\Users\\Allek\\AppData\\Roaming\\Python\\Python39\\site-packages\\flask\\app.py\", line 1516, in full_dispatch_request\n",
      "    rv = self.dispatch_request()\n",
      "  File \"C:\\Users\\Allek\\AppData\\Roaming\\Python\\Python39\\site-packages\\flask\\app.py\", line 1502, in dispatch_request\n",
      "    return self.ensure_sync(self.view_functions[rule.endpoint])(**req.view_args)\n",
      "  File \"<ipython-input-5-ed0d9bbb118b>\", line 42, in individual_page\n",
      "    html += \"\"\"<p><a href=\"%s\">%s</a></p>\"\"\" %(url_for(\"class_page\", iri = Class.iri), Class.name)\n",
      "  File \"c:\\users\\allek\\appdata\\local\\programs\\python\\python39\\lib\\site-packages\\owlready2\\class_construct.py\", line 365, in __getattr__\n",
      "    return super().__getattribute__(attr)\n",
      "AttributeError: 'Restriction' object has no attribute 'iri'\n",
      "127.0.0.1 - - [18/Nov/2021 18:40:04] \"GET /individual/urn:webprotege:ontology:2be3f3b2-8281-4060-ad9b-5afe901351e2%23Больница_№_392 HTTP/1.1\" 500 -\n"
     ]
    }
   ],
   "source": [
    "# File dynamic_website.py \n",
    "from owlready2 import *\n",
    "onto = get_ontology(\"Ontology_HospitalDepartments8.owl\").load() \n",
    "from flask import Flask, url_for\n",
    "app = Flask(__name__) \n",
    "@app.route('/')\n",
    "def ontology_page():\n",
    "    html  = \"\"\"<html><body>\"\"\"\n",
    "    html += \"\"\"<h2>'%s' ontology</h2>\"\"\" % onto.base_iri\n",
    "    html += \"\"\"<h3>Root classes</h3>\"\"\" \n",
    "    for Class in Thing.subclasses():\n",
    "        html += \"\"\"<p><a href=\"%s\">%s</a></p>\"\"\" %(url_for(\"class_page\", iri = Class.iri), Class.name)\n",
    "    html += \"\"\"</body></html>\"\"\" \n",
    "    return html\n",
    "@app.route('/class/<path:iri>') \n",
    "def class_page(iri):\n",
    "    Class = IRIS[iri]\n",
    "    html = \"\"\"<html><body><h2>'%s' class</h2>\"\"\" % Class.name\n",
    "    html += \"\"\"<h3>superclasses</h3>\"\"\"\n",
    "    for SuperClass in Class.is_a:\n",
    "        if isinstance(SuperClass, ThingClass):            html += \"\"\"<p><a href=\"%s\">%s</a></p>\"\"\" %(url_for(\"class_page\", iri = SuperClass.iri), \n",
    "SuperClass.name)\n",
    "        else:\n",
    "            html += \"\"\"<p>%s</p>\"\"\" % SuperClass\n",
    "    html += \"\"\"<h3>equivalent classes</h3>\"\"\"\n",
    "    for EquivClass in Class.equivalent_to:\n",
    "        html += \"\"\"<p>%s</p>\"\"\" % EquivClass\n",
    "    html += \"\"\"<h3>Subclasses</h3>\"\"\"\n",
    "    for SubClass in Class.subclasses():\n",
    "        html += \"\"\"<p><a href=\"%s\">%s</a></p>\"\"\" %(url_for(\"class_page\", iri = SubClass.iri), SubClass.name) \n",
    "    html += \"\"\"<h3>Individuals</h3>\"\"\"\n",
    "    for individual in Class.instances():\n",
    "        html += \"\"\"<p><a href=\"%s\">%s</a></p>\"\"\" %(url_for(\"individual_page\", iri = individual.iri),individual.name)\n",
    "    html += \"\"\"</body></html>\"\"\" \n",
    "    return html\n",
    "@app.route('/individual/<path:iri>') \n",
    "def individual_page(iri):\n",
    "    individual = IRIS[iri]\n",
    "    html = \"\"\"<html><body><h2>'%s' individual</h2>\"\"\" %individual.name\n",
    "    html += \"\"\"<h3>Classes</h3>\"\"\" \n",
    "    for Class in individual.is_a:\n",
    "        html += \"\"\"<p><a href=\"%s\">%s</a></p>\"\"\" %(url_for(\"class_page\", iri = Class.iri), Class.name)\n",
    "    html += \"\"\"<h3>Relations</h3>\"\"\"\n",
    "    if isinstance(individual, onto.Медицинский_работник): \n",
    "        html += \"\"\"<p>Стаж работы = %s</p>\"\"\" % individual.имеет_стаж_работы\n",
    "        if   individual.Проводит_операции == True: \n",
    "            html += \"\"\"<p>Проводит операции</p>\"\"\" \n",
    "        elif individual.Проводит_операции == False:            html += \"\"\"<p>Не проводит операции</p>\"\"\"\n",
    "    html += \"\"\"</body></html>\"\"\"\n",
    "    return html\n",
    "import werkzeug.serving\n",
    "werkzeug.serving.run_simple(\"localhost\", 5000, app)"
   ]
  },
  {
   "cell_type": "code",
   "execution_count": null,
   "id": "parental-textbook",
   "metadata": {},
   "outputs": [],
   "source": []
  }
 ],
 "metadata": {
  "kernelspec": {
   "display_name": "Python 3",
   "language": "python",
   "name": "python3"
  },
  "language_info": {
   "codemirror_mode": {
    "name": "ipython",
    "version": 3
   },
   "file_extension": ".py",
   "mimetype": "text/x-python",
   "name": "python",
   "nbconvert_exporter": "python",
   "pygments_lexer": "ipython3",
   "version": "3.9.1"
  }
 },
 "nbformat": 4,
 "nbformat_minor": 5
}
